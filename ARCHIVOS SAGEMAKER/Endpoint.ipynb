{
 "cells": [
  {
   "cell_type": "code",
   "execution_count": 1,
   "id": "99a79074",
   "metadata": {},
   "outputs": [],
   "source": [
    "import boto3"
   ]
  },
  {
   "cell_type": "code",
   "execution_count": 4,
   "id": "0199e285",
   "metadata": {},
   "outputs": [
    {
     "name": "stdout",
     "output_type": "stream",
     "text": [
      "b'[113.90197773314448, 113.90197773314448]'\n"
     ]
    }
   ],
   "source": [
    "endpoint=\"sagemaker-scikit-learn-2022-12-02-22-51-57-664\"\n",
    "\n",
    "input_data = \"117,121,125\\n117,121,125\\n\"\n",
    "\n",
    "client = boto3.client('sagemaker-runtime', 'us-east-1')\n",
    "\n",
    "response = client.invoke_endpoint(EndpointName=endpoint, Body=input_data, ContentType='text/csv')\n",
    "\n",
    "prediction = response['Body'].read()\n",
    "\n",
    "print(prediction)"
   ]
  },
  {
   "cell_type": "code",
   "execution_count": null,
   "id": "ac90010c",
   "metadata": {},
   "outputs": [],
   "source": []
  }
 ],
 "metadata": {
  "kernelspec": {
   "display_name": "conda_python3",
   "language": "python",
   "name": "conda_python3"
  },
  "language_info": {
   "codemirror_mode": {
    "name": "ipython",
    "version": 3
   },
   "file_extension": ".py",
   "mimetype": "text/x-python",
   "name": "python",
   "nbconvert_exporter": "python",
   "pygments_lexer": "ipython3",
   "version": "3.8.12"
  }
 },
 "nbformat": 4,
 "nbformat_minor": 5
}
